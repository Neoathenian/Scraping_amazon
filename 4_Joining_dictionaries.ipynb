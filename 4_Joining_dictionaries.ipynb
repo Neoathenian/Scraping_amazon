{
 "cells": [
  {
   "cell_type": "code",
   "execution_count": 7,
   "metadata": {},
   "outputs": [],
   "source": [
    "import pandas as pd\n",
    "import numpy as np\n",
    "import json\n",
    "import ast\n",
    "from tqdm import tqdm\n",
    "\n",
    "# from src.Basic_LLM_functions import LLM_connection\n",
    "from src.Remove_accents import remove_accents,remove_special_characters,divide_string_into_words\n",
    "from src.Spanish_words import spanish_words\n",
    "from src.Basic_LLM_functions import LLM_connection"
   ]
  },
  {
   "cell_type": "code",
   "execution_count": 2,
   "metadata": {},
   "outputs": [],
   "source": [
    "def dict_to_string(d):\n",
    "    return \"\\n\".join([f\"{k}: {v}\" for k,v in d.items()])"
   ]
  },
  {
   "cell_type": "code",
   "execution_count": 3,
   "metadata": {},
   "outputs": [],
   "source": [
    "df=pd.read_csv(\"Databases/Parsed_htmls.csv\")"
   ]
  },
  {
   "cell_type": "code",
   "execution_count": 4,
   "metadata": {},
   "outputs": [],
   "source": [
    "#Obtenido tras simplificar new_keys yo mismo\n",
    "final_keys={\n",
    "    'accesorios'\n",
    "    'Tiene ahorro energia',\n",
    "    'alcance',\n",
    "    'alimentacion',\n",
    "    'almacenamiento',\n",
    "    'amperaje',\n",
    "    'apagado automatico',\n",
    "    'apariencia',\n",
    "    'aplicaciones',\n",
    "    'autonomia',\n",
    "    'bateria',\n",
    "    'Tiempo de carga',\n",
    "    'bolsa',\n",
    "    'cabezal',\n",
    "    'capacidad del deposito de polvo',\n",
    "    'cepillo',\n",
    "    'clase de reemision de polvo',\n",
    "    'color',\n",
    "    'componentes',\n",
    "    'conectividad',\n",
    "    'consumo',\n",
    "    'detalles fisicos adicionales',\n",
    "    'dimensiones del producto',\n",
    "    'peso',\n",
    "    'filtro',\n",
    "    'funcion seca suelo',\n",
    "    'garantia',\n",
    "    'iluminacion',\n",
    "    'inalambrico',\n",
    "    'longitud cable',\n",
    "    'marca',\n",
    "    'material',\n",
    "    'maxima presion de succion',\n",
    "    'nivel de ruido',\n",
    "    'modos de funcionamiento',\n",
    "    'motor',\n",
    "    'necesita baterias',\n",
    "    'se incluyen las pilas',\n",
    "    'tipos de superficie',\n",
    "    'caracteristicas adicionales'\n",
    "    }"
   ]
  },
  {
   "cell_type": "code",
   "execution_count": 5,
   "metadata": {},
   "outputs": [
    {
     "name": "stderr",
     "output_type": "stream",
     "text": [
      "c:\\Users\\Rafa\\miniconda3\\envs\\llama3_1_env\\Lib\\site-packages\\tqdm\\auto.py:21: TqdmWarning: IProgress not found. Please update jupyter and ipywidgets. See https://ipywidgets.readthedocs.io/en/stable/user_install.html\n",
      "  from .autonotebook import tqdm as notebook_tqdm\n",
      "Loading checkpoint shards: 100%|██████████| 4/4 [00:21<00:00,  5.49s/it]\n"
     ]
    }
   ],
   "source": [
    "LLM_connection.load_model_from_path(\"src/LLMs/Meta-Llama-3.1-8B-Instruct\")"
   ]
  },
  {
   "cell_type": "code",
   "execution_count": 9,
   "metadata": {},
   "outputs": [],
   "source": [
    "LLM_connection.system_prompt=f\"\"\"You will be given information about a product and you will try to extract the following information into the following json format:\n",
    "                                {\"{\"+\":, \\n\".join(list(final_keys))+\"}\"}\n",
    "\n",
    "                                If no information on a key is provided, just leave it an empty string (\"\")\n",
    "                                Answer only with the dictionary.\n",
    "                                \"\"\""
   ]
  },
  {
   "cell_type": "code",
   "execution_count": 46,
   "metadata": {},
   "outputs": [],
   "source": [
    "import ast\n",
    "def turn_info_to_json(text,max_new_tokens=10000):\n",
    "    for i in range(3):\n",
    "        out=LLM_connection.Get_answer(text)\n",
    "        try:\n",
    "            output=ast.literal_eval(out[out.index(\"{\"):].replace(\"`\",\"\").replace(\"`\",\"\"))\n",
    "            return output\n",
    "        except:\n",
    "            pass\n",
    "    return {}"
   ]
  },
  {
   "cell_type": "code",
   "execution_count": 10,
   "metadata": {},
   "outputs": [],
   "source": [
    "def turn_info_to_json_batch(questions, max_new_tokens=10000):\n",
    "    results = [None] * len(questions)  # Initialize results with None for tracking\n",
    "    remaining_indices = list(range(len(questions)))  # Track indices of questions to process\n",
    "    \n",
    "    for attempt in range(3):  # Retry mechanism, up to 3 attempts\n",
    "        if not remaining_indices:  # Stop if all questions are successfully processed\n",
    "            break\n",
    "\n",
    "        # Fetch answers for remaining questions\n",
    "        current_questions = [questions[i] for i in remaining_indices]\n",
    "        responses = LLM_connection.Get_answer_batch(current_questions)\n",
    "        \n",
    "        # Process each response\n",
    "        new_remaining_indices = []\n",
    "        for idx, response in zip(remaining_indices, responses):\n",
    "            try:\n",
    "                # Attempt to parse the response\n",
    "                output = ast.literal_eval(response[response.index(\"{\"):].replace(\"`\", \"\").replace(\"`\", \"\"))\n",
    "                results[idx] = output  # Store successful result\n",
    "            except:\n",
    "                new_remaining_indices.append(idx)  # Retain index for retry\n",
    "        \n",
    "        # Update remaining indices\n",
    "        remaining_indices = new_remaining_indices\n",
    "\n",
    "    # Fill remaining failed indices with empty dictionaries\n",
    "    for idx in remaining_indices:\n",
    "        results[idx] = {}\n",
    "\n",
    "    return results"
   ]
  },
  {
   "cell_type": "code",
   "execution_count": 11,
   "metadata": {},
   "outputs": [],
   "source": [
    "questions=[\"General Information:\\n\"+f\"\"\"{df.at[i,\"General Information\"]}\"\"\"+\"\\n\"+\\\n",
    "                            \"About This Product:\\n\"+\"\\n\".join(ast.literal_eval(df.at[i,\"About This Product\"]))+\"\\n\"+\\\n",
    "                            \"Technical Details:\\n\"+dict_to_string(ast.literal_eval(df.at[i,\"Technical Details\"]))\n",
    "                            for i in df.index]"
   ]
  },
  {
   "cell_type": "code",
   "execution_count": 13,
   "metadata": {},
   "outputs": [],
   "source": [
    "final_jsons=turn_info_to_json_batch(questions)"
   ]
  },
  {
   "cell_type": "code",
   "execution_count": 39,
   "metadata": {},
   "outputs": [],
   "source": [
    "def unify_columns(df):\n",
    "    \"\"\"\n",
    "    Unify columns in a DataFrame by:\n",
    "    - Removing accents from column names.\n",
    "    - Converting column names to lowercase.\n",
    "    - Merging duplicate columns by taking the first non-null value in each row.\n",
    "    \"\"\"\n",
    "    df.columns = [remove_accents(col).lower() for col in df.columns]\n",
    "    df_unified = pd.DataFrame(index=df.index)\n",
    "    \n",
    "    unique_columns = df.columns.unique()\n",
    "    \n",
    "    for col in unique_columns:\n",
    "        cols = df.loc[:, df.columns == col]\n",
    "\n",
    "        if cols.shape[1] == 1:\n",
    "            df_unified[col] = cols.iloc[:, 0]\n",
    "        else:\n",
    "            # Merge columns by taking the first non-null value in each row\n",
    "            df_unified[col] = cols.apply(lambda x: next((item for item in x if pd.notna(item)), np.nan), axis=1)\n",
    "    \n",
    "    return df_unified"
   ]
  },
  {
   "cell_type": "code",
   "execution_count": 40,
   "metadata": {},
   "outputs": [],
   "source": [
    "jsons_df=unify_columns(pd.DataFrame(final_jsons))"
   ]
  },
  {
   "cell_type": "code",
   "execution_count": 44,
   "metadata": {},
   "outputs": [],
   "source": [
    "def extract_and_divide(star_string):\n",
    "    if \"de 5 estrellas\" in star_string:\n",
    "        try:\n",
    "            # Replace ',' with '.' for decimal conversion and extract the first number\n",
    "            return float(star_string.split(\" de \")[0].replace(\",\", \".\")) / 5\n",
    "        except ValueError:\n",
    "            return None\n",
    "    else:\n",
    "        return None"
   ]
  },
  {
   "cell_type": "code",
   "execution_count": 63,
   "metadata": {},
   "outputs": [],
   "source": [
    "df[\"Stars\"]=df[\"Stars\"].apply(extract_and_divide)"
   ]
  },
  {
   "cell_type": "code",
   "execution_count": 59,
   "metadata": {},
   "outputs": [],
   "source": [
    "def format_price(value):\n",
    "    if \"Price not found\" in value:\n",
    "        return \"-1\"\n",
    "    else:\n",
    "        # Remove the currency symbol and replace comma with a dot\n",
    "        numeric_part = value.replace(\"€\", \"\").replace(\",\", \".\")\n",
    "        return f\"{numeric_part}\""
   ]
  },
  {
   "cell_type": "code",
   "execution_count": 61,
   "metadata": {},
   "outputs": [],
   "source": [
    "df[\"Price\"]=df[\"Price\"].apply(format_price).astype(float)"
   ]
  },
  {
   "cell_type": "code",
   "execution_count": null,
   "metadata": {},
   "outputs": [],
   "source": []
  },
  {
   "cell_type": "code",
   "execution_count": 66,
   "metadata": {},
   "outputs": [],
   "source": [
    "full_df=pd.concat([df.drop(columns=['General Information', 'About This Product','Technical Details']),jsons_df],axis=1)"
   ]
  },
  {
   "cell_type": "code",
   "execution_count": 68,
   "metadata": {},
   "outputs": [],
   "source": [
    "full_df[\"All_info\"]=questions"
   ]
  },
  {
   "cell_type": "code",
   "execution_count": 78,
   "metadata": {},
   "outputs": [],
   "source": [
    "full_df.to_csv(\"Databases/Cleaned_df.csv\",index=False)"
   ]
  }
 ],
 "metadata": {
  "kernelspec": {
   "display_name": "llama3_1_env",
   "language": "python",
   "name": "python3"
  },
  "language_info": {
   "codemirror_mode": {
    "name": "ipython",
    "version": 3
   },
   "file_extension": ".py",
   "mimetype": "text/x-python",
   "name": "python",
   "nbconvert_exporter": "python",
   "pygments_lexer": "ipython3",
   "version": "3.12.5"
  }
 },
 "nbformat": 4,
 "nbformat_minor": 2
}
